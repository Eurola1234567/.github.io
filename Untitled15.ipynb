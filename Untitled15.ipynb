{
 "cells": [
  {
   "cell_type": "code",
   "execution_count": 1,
   "id": "b7ec0c2d",
   "metadata": {},
   "outputs": [
    {
     "name": "stdout",
     "output_type": "stream",
     "text": [
      "title\n",
      "paper\n",
      "['t', 'i', 't', 'l', 'e']\n",
      "['p', 'a', 'p', 'e', 'r']\n"
     ]
    }
   ],
   "source": [
    "s = [str(i) for i in input()]\n",
    "p = [str(i) for i in input()]\n",
    "fin = []\n",
    "\n",
    "if len(s) == len(p):\n",
    "    if len(s)%2 == 0:\n",
    "        half = len(s)/2\n",
    "        for i in range(1, -half+1, -1):\n",
    "            k = (s[i])\n",
    "            fin.append()\n",
    "else:\n",
    "    False"
   ]
  },
  {
   "cell_type": "code",
   "execution_count": 6,
   "id": "6363ba71",
   "metadata": {},
   "outputs": [
    {
     "name": "stdout",
     "output_type": "stream",
     "text": [
      "title\n",
      "paper\n",
      "[('t', 'p'), ('i', 'a'), ('t', 'p'), ('l', 'e'), ('e', 'r')]\n"
     ]
    }
   ],
   "source": [
    "s = [str(i) for i in input()]\n",
    "p = [str(i) for i in input()]\n",
    "fin = []\n",
    "\n",
    "length = len(s)\n",
    "\n",
    "# 定义一个步长，每次加 1 或减 1\n",
    "step = 1\n",
    "\n",
    "# 初始化起始索引\n",
    "index = -1\n",
    "\n",
    "if len(s) == len(p):\n",
    "    # 遍历列表\n",
    "    for _ in range(length):\n",
    "        fin.append((s[_],p[_]))\n",
    "\n",
    "        # 如果索引到达列表的两端，则改变步长\n",
    "        if index == -length:\n",
    "            step = 1\n",
    "        elif index == length - 1:\n",
    "            step = -1\n",
    "        # 更新索引\n",
    "        index += step\n",
    "        \n",
    "print(fin)"
   ]
  },
  {
   "cell_type": "code",
   "execution_count": 11,
   "id": "d9c306a7",
   "metadata": {},
   "outputs": [
    {
     "name": "stdout",
     "output_type": "stream",
     "text": [
      "title\n",
      "paper\n",
      "[('t', 'p'), ('i', 'a'), ('t', 'p'), ('l', 'e'), ('e', 'r')]\n"
     ]
    }
   ],
   "source": [
    "s = [str(i) for i in input()]\n",
    "p = [str(i) for i in input()]\n",
    "fin = []\n",
    "\n",
    "length = len(s)\n",
    "\n",
    "# 定义一个步长，每次加 1 或减 1\n",
    "step = 1\n",
    "\n",
    "# 初始化起始索引\n",
    "index = -1\n",
    "\n",
    "if len(s) == len(p):\n",
    "    # 遍历列表\n",
    "    for _ in range(length):\n",
    "        # 根据索引判断添加顺序\n",
    "        if index < 0:\n",
    "            fin.append((s[_], p[_]))\n",
    "        else:\n",
    "            fin.append((s[_], p[_]))\n",
    "\n",
    "        # 如果索引到达列表的两端，则改变步长\n",
    "        if index == -length:\n",
    "            step = 1\n",
    "        elif index == length - 1:\n",
    "            step = -1\n",
    "        # 更新索引\n",
    "        index += step\n",
    "        \n",
    "print(fin)\n"
   ]
  },
  {
   "cell_type": "code",
   "execution_count": 14,
   "id": "bd9f345f",
   "metadata": {},
   "outputs": [
    {
     "name": "stdout",
     "output_type": "stream",
     "text": [
      "APPLE1\n",
      "apple2\n",
      "[('1', '2'), ('A', 'a'), ('E', 'e'), ('L', 'l'), ('P', 'p')]\n"
     ]
    }
   ],
   "source": [
    "def find_mapping(s, t):\n",
    "    if len(s) != len(t):\n",
    "        return False\n",
    "\n",
    "    mapping = {}\n",
    "    for char_s, char_t in zip(s, t):\n",
    "        if char_s in mapping:\n",
    "            if mapping[char_s] != char_t:\n",
    "                return False\n",
    "        else:\n",
    "            mapping[char_s] = char_t\n",
    "\n",
    "    return sorted(mapping.items())\n",
    "\n",
    "\n",
    "# 測試\n",
    "s = input()\n",
    "t = input()\n",
    "print(find_mapping(s, t))\n"
   ]
  },
  {
   "cell_type": "code",
   "execution_count": 15,
   "id": "9f87ba51",
   "metadata": {},
   "outputs": [
    {
     "name": "stdout",
     "output_type": "stream",
     "text": [
      "123123123123\n",
      "(1, 12)\n"
     ]
    }
   ],
   "source": [
    "def max_gifts(s):\n",
    "    max_count = 0\n",
    "    current_count = 1\n",
    "    for i in range(1, len(s)):\n",
    "        if s[i] == s[i - 1]:\n",
    "            current_count += 1\n",
    "        else:\n",
    "            max_count = max(max_count, current_count)\n",
    "            current_count = 1\n",
    "\n",
    "    max_count = max(max_count, current_count)\n",
    "    return max_count, len(s) // max_count\n",
    "\n",
    "\n",
    "# 測試\n",
    "s1 = input()\n",
    "print(max_gifts(s1))  # Output: (4, 3)\n",
    "\n",
    "\n"
   ]
  },
  {
   "cell_type": "code",
   "execution_count": 16,
   "id": "0af52dd4",
   "metadata": {},
   "outputs": [
    {
     "name": "stdout",
     "output_type": "stream",
     "text": [
      "123123123123\n",
      "(1, 12)\n"
     ]
    }
   ],
   "source": [
    "def max_gifts(s):\n",
    "    max_count = 1\n",
    "    current_count = 1\n",
    "    for i in range(1, len(s)):\n",
    "        if s[i] == s[i - 1]:\n",
    "            current_count += 1\n",
    "        else:\n",
    "            max_count = max(max_count, current_count)\n",
    "            current_count = 1\n",
    "    max_count = max(max_count, current_count)\n",
    "    return max_count, len(s) // max_count\n",
    "\n",
    "\n",
    "# 測試\n",
    "s1 = input()\n",
    "print(max_gifts(s1))  # Output: (4, 3)\n",
    "\n"
   ]
  },
  {
   "cell_type": "code",
   "execution_count": 18,
   "id": "013e56a7",
   "metadata": {},
   "outputs": [
    {
     "name": "stdout",
     "output_type": "stream",
     "text": [
      "3\n",
      "1\n",
      "1\n",
      "A\n",
      "CE\n",
      "GIK\n"
     ]
    }
   ],
   "source": [
    "def build_tower(N, k, skip):\n",
    "    tower = []\n",
    "    current_block = 'A'\n",
    "    for i in range(N):\n",
    "        blocks = ''\n",
    "        for j in range(i + k):\n",
    "            blocks += current_block\n",
    "            if current_block.isalpha():\n",
    "                if current_block == 'Z':\n",
    "                    current_block = 'a'\n",
    "                elif current_block == 'z':\n",
    "                    current_block = 'A'\n",
    "                else:\n",
    "                    current_block = chr(ord(current_block) + 1)\n",
    "            else:\n",
    "                if current_block == '9':\n",
    "                    current_block = '0'\n",
    "                else:\n",
    "                    current_block = str(int(current_block) + 1)\n",
    "            for _ in range(skip):\n",
    "                if current_block.isalpha():\n",
    "                    if current_block == 'Z':\n",
    "                        current_block = 'a'\n",
    "                    elif current_block == 'z':\n",
    "                        current_block = 'A'\n",
    "                    else:\n",
    "                        current_block = chr(ord(current_block) + 1)\n",
    "                else:\n",
    "                    if current_block == '9':\n",
    "                        current_block = '0'\n",
    "                    else:\n",
    "                        current_block = str(int(current_block) + 1)\n",
    "        tower.append(blocks)\n",
    "    return tower\n",
    "\n",
    "# Sample Input\n",
    "N = int(input())\n",
    "k = int(input())\n",
    "skip = int(input())\n",
    "\n",
    "tower = build_tower(N, k, skip)\n",
    "\n",
    "# Sample Output\n",
    "for row in tower:\n",
    "    print(row)\n"
   ]
  },
  {
   "cell_type": "code",
   "execution_count": 23,
   "id": "66f9afa2",
   "metadata": {},
   "outputs": [
    {
     "name": "stdout",
     "output_type": "stream",
     "text": [
      "9\n",
      "1\n",
      "25\n",
      "A\n"
     ]
    },
    {
     "ename": "TypeError",
     "evalue": "'int' object is not subscriptable",
     "output_type": "error",
     "traceback": [
      "\u001b[1;31m---------------------------------------------------------------------------\u001b[0m",
      "\u001b[1;31mTypeError\u001b[0m                                 Traceback (most recent call last)",
      "Cell \u001b[1;32mIn[23], line 31\u001b[0m\n\u001b[0;32m     29\u001b[0m \u001b[38;5;28;01mif\u001b[39;00m (i\u001b[38;5;241m+\u001b[39m\u001b[38;5;241m1\u001b[39m)\u001b[38;5;241m%\u001b[39m\u001b[38;5;241m2\u001b[39m \u001b[38;5;241m!=\u001b[39m \u001b[38;5;241m0\u001b[39m:\n\u001b[0;32m     30\u001b[0m     o \u001b[38;5;241m=\u001b[39m \u001b[38;5;241m1\u001b[39m\n\u001b[1;32m---> 31\u001b[0m     p \u001b[38;5;241m=\u001b[39m \u001b[38;5;28mstr\u001b[39m(o[\u001b[38;5;241m0\u001b[39m])\n\u001b[0;32m     32\u001b[0m     \u001b[38;5;28;01mfor\u001b[39;00m j \u001b[38;5;129;01min\u001b[39;00m \u001b[38;5;28mrange\u001b[39m(i\u001b[38;5;241m+\u001b[39mk):\n\u001b[0;32m     33\u001b[0m         o \u001b[38;5;241m+\u001b[39m\u001b[38;5;241m=\u001b[39m alpha\n",
      "\u001b[1;31mTypeError\u001b[0m: 'int' object is not subscriptable"
     ]
    }
   ],
   "source": [
    "N = int(input())\n",
    "k = int(input())\n",
    "alpha = int(input())\n",
    "h = None\n",
    "\n",
    "def shift_letter(letter, shift):\n",
    "    if letter.isalpha():\n",
    "        base = ord('a') if letter.islower() else ord('A')\n",
    "        shifted = (ord(letter) - base + shift) % 26 + base\n",
    "        return chr(shifted)\n",
    "    else:\n",
    "        return letter\n",
    "    \n",
    "\n",
    "    \n",
    "\n",
    "for i in range(N):\n",
    "    if i == 0:\n",
    "        print(chr(65))\n",
    "    if i == 1:\n",
    "            h = \"a\"\n",
    "            h += shift_letter(a, alpha)\n",
    "    else:\n",
    "        if (i+1)%2 == 0:\n",
    "            u = h[-1]\n",
    "            for j in range(i+k):                \n",
    "                u += shift_letter(u, alpha)\n",
    "            print(u)\n",
    "        if (i+1)%2 != 0:\n",
    "            o = 1\n",
    "            p = str(o[0])\n",
    "            for j in range(i+k):\n",
    "                o += alpha\n",
    "                if o > 10:\n",
    "                    o = 0\n",
    "                    p += str(o)\n",
    "                else:\n",
    "                    p += str(o)\n",
    "            print(p)\n",
    "            \n",
    "                    \n",
    "                \n",
    "            \n",
    "        \n"
   ]
  },
  {
   "cell_type": "code",
   "execution_count": 22,
   "id": "a11aadd9",
   "metadata": {},
   "outputs": [
    {
     "name": "stdout",
     "output_type": "stream",
     "text": [
      "q\n"
     ]
    }
   ],
   "source": [
    "def shift_letter(letter, shift):\n",
    "    if letter.isalpha():\n",
    "        base = ord('a') if letter.islower() else ord('A')\n",
    "        shifted = (ord(letter) - base + shift) % 26 + base\n",
    "        return chr(shifted)\n",
    "    else:\n",
    "        return letter\n",
    "\n",
    "def get_shifted_letter(letter, distance):\n",
    "    return shift_letter(letter, distance)\n",
    "\n",
    "# 示例\n",
    "t = 'r'\n",
    "shifted_z = get_shifted_letter(t, 25)\n",
    "print(shifted_z)  # 输出为 z\n"
   ]
  },
  {
   "cell_type": "code",
   "execution_count": 24,
   "id": "be583ced",
   "metadata": {},
   "outputs": [
    {
     "name": "stdout",
     "output_type": "stream",
     "text": [
      "9\n",
      "1\n",
      "25\n",
      "A\n",
      "10\n",
      "1000\n"
     ]
    },
    {
     "ename": "TypeError",
     "evalue": "ord() expected a character, but string of length 2 found",
     "output_type": "error",
     "traceback": [
      "\u001b[1;31m---------------------------------------------------------------------------\u001b[0m",
      "\u001b[1;31mTypeError\u001b[0m                                 Traceback (most recent call last)",
      "Cell \u001b[1;32mIn[24], line 27\u001b[0m\n\u001b[0;32m     25\u001b[0m     u \u001b[38;5;241m=\u001b[39m h[\u001b[38;5;241m-\u001b[39m\u001b[38;5;241m1\u001b[39m]\n\u001b[0;32m     26\u001b[0m     \u001b[38;5;28;01mfor\u001b[39;00m j \u001b[38;5;129;01min\u001b[39;00m \u001b[38;5;28mrange\u001b[39m(i\u001b[38;5;241m+\u001b[39mk):                \n\u001b[1;32m---> 27\u001b[0m         u \u001b[38;5;241m+\u001b[39m\u001b[38;5;241m=\u001b[39m shift_letter(u, alpha)\n\u001b[0;32m     28\u001b[0m     \u001b[38;5;28mprint\u001b[39m(u)\n\u001b[0;32m     29\u001b[0m \u001b[38;5;28;01mif\u001b[39;00m (i\u001b[38;5;241m+\u001b[39m\u001b[38;5;241m1\u001b[39m)\u001b[38;5;241m%\u001b[39m\u001b[38;5;241m2\u001b[39m \u001b[38;5;241m!=\u001b[39m \u001b[38;5;241m0\u001b[39m:\n",
      "Cell \u001b[1;32mIn[24], line 9\u001b[0m, in \u001b[0;36mshift_letter\u001b[1;34m(letter, shift)\u001b[0m\n\u001b[0;32m      7\u001b[0m \u001b[38;5;28;01mif\u001b[39;00m letter\u001b[38;5;241m.\u001b[39misalpha():\n\u001b[0;32m      8\u001b[0m     base \u001b[38;5;241m=\u001b[39m \u001b[38;5;28mord\u001b[39m(\u001b[38;5;124m'\u001b[39m\u001b[38;5;124ma\u001b[39m\u001b[38;5;124m'\u001b[39m) \u001b[38;5;28;01mif\u001b[39;00m letter\u001b[38;5;241m.\u001b[39mislower() \u001b[38;5;28;01melse\u001b[39;00m \u001b[38;5;28mord\u001b[39m(\u001b[38;5;124m'\u001b[39m\u001b[38;5;124mA\u001b[39m\u001b[38;5;124m'\u001b[39m)\n\u001b[1;32m----> 9\u001b[0m     shifted \u001b[38;5;241m=\u001b[39m (\u001b[38;5;28mord\u001b[39m(letter) \u001b[38;5;241m-\u001b[39m base \u001b[38;5;241m+\u001b[39m shift) \u001b[38;5;241m%\u001b[39m \u001b[38;5;241m26\u001b[39m \u001b[38;5;241m+\u001b[39m base\n\u001b[0;32m     10\u001b[0m     \u001b[38;5;28;01mreturn\u001b[39;00m \u001b[38;5;28mchr\u001b[39m(shifted)\n\u001b[0;32m     11\u001b[0m \u001b[38;5;28;01melse\u001b[39;00m:\n",
      "\u001b[1;31mTypeError\u001b[0m: ord() expected a character, but string of length 2 found"
     ]
    }
   ],
   "source": [
    "N = int(input())\n",
    "k = int(input())\n",
    "alpha = int(input())\n",
    "h = None\n",
    "\n",
    "def shift_letter(letter, shift):\n",
    "    if letter.isalpha():\n",
    "        base = ord('a') if letter.islower() else ord('A')\n",
    "        shifted = (ord(letter) - base + shift) % 26 + base\n",
    "        return chr(shifted)\n",
    "    else:\n",
    "        return letter\n",
    "    \n",
    "\n",
    "    \n",
    "\n",
    "for i in range(N):\n",
    "    if i == 0:\n",
    "        print(chr(65))\n",
    "    if i == 1:\n",
    "            h = \"a\"\n",
    "            h += shift_letter(h, alpha)\n",
    "    else:\n",
    "        if (i+1)%2 == 0:\n",
    "            u = h[-1]\n",
    "            for j in range(i+k):                \n",
    "                u += shift_letter(u, alpha)\n",
    "            print(u)\n",
    "        if (i+1)%2 != 0:\n",
    "            o = [1]  # 将 o 初始化为列表\n",
    "            p = str(o[0])\n",
    "            for j in range(i+k):\n",
    "                o[0] += alpha\n",
    "                if o[0] > 10:\n",
    "                    o[0] = 0\n",
    "                    p += str(o[0])\n",
    "                else:\n",
    "                    p += str(o[0])\n",
    "            print(p)\n"
   ]
  },
  {
   "cell_type": "code",
   "execution_count": 26,
   "id": "4202236e",
   "metadata": {},
   "outputs": [
    {
     "name": "stdout",
     "output_type": "stream",
     "text": [
      "3\n",
      "1\n",
      "1\n",
      "A\n"
     ]
    },
    {
     "ename": "TypeError",
     "evalue": "'NoneType' object is not subscriptable",
     "output_type": "error",
     "traceback": [
      "\u001b[1;31m---------------------------------------------------------------------------\u001b[0m",
      "\u001b[1;31mTypeError\u001b[0m                                 Traceback (most recent call last)",
      "Cell \u001b[1;32mIn[26], line 23\u001b[0m\n\u001b[0;32m     21\u001b[0m \u001b[38;5;28;01melse\u001b[39;00m:\n\u001b[0;32m     22\u001b[0m     \u001b[38;5;28;01mif\u001b[39;00m (i\u001b[38;5;241m+\u001b[39m\u001b[38;5;241m1\u001b[39m) \u001b[38;5;241m%\u001b[39m \u001b[38;5;241m2\u001b[39m \u001b[38;5;241m!=\u001b[39m \u001b[38;5;241m0\u001b[39m:\n\u001b[1;32m---> 23\u001b[0m         u \u001b[38;5;241m=\u001b[39m h[\u001b[38;5;241m-\u001b[39m\u001b[38;5;241m1\u001b[39m]\n\u001b[0;32m     24\u001b[0m         \u001b[38;5;28;01mfor\u001b[39;00m j \u001b[38;5;129;01min\u001b[39;00m \u001b[38;5;28mrange\u001b[39m(i\u001b[38;5;241m+\u001b[39mk):                \n\u001b[0;32m     25\u001b[0m             u \u001b[38;5;241m+\u001b[39m\u001b[38;5;241m=\u001b[39m shift_letter(u[\u001b[38;5;241m-\u001b[39m\u001b[38;5;241m1\u001b[39m], alpha)  \u001b[38;5;66;03m# 将 u 的最后一个字符传递给 shift_letter 函数\u001b[39;00m\n",
      "\u001b[1;31mTypeError\u001b[0m: 'NoneType' object is not subscriptable"
     ]
    }
   ],
   "source": [
    "N = int(input())\n",
    "k = int(input())\n",
    "alpha = int(input())\n",
    "h = None\n",
    "\n",
    "def shift_letter(letter, shift):\n",
    "    if letter.isalpha():\n",
    "        base = ord('a') if letter.islower() else ord('A')\n",
    "        shifted = (ord(letter) - base + shift) % 26 + base\n",
    "        return chr(shifted)\n",
    "    else:\n",
    "        return letter\n",
    "    \n",
    "\n",
    "for i in range(N):\n",
    "    if i == 0:\n",
    "        print(chr(65))\n",
    "    if i == 1:\n",
    "        h = \"a\"\n",
    "        h += shift_letter(h[-1], alpha)  # 将 h 的最后一个字符传递给 shift_letter 函数\n",
    "    else:\n",
    "        if (i+1) % 2 != 0:\n",
    "            u = h[-1]\n",
    "            for j in range(i+k):                \n",
    "                u += shift_letter(u[-1], alpha)  # 将 u 的最后一个字符传递给 shift_letter 函数\n",
    "            print(u)\n",
    "        if (i+1) % 2 == 0:\n",
    "            o = [1]  # 将 o 初始化为列表\n",
    "            p = str(o[0])\n",
    "            for j in range(i+k):\n",
    "                o[0] += alpha\n",
    "                if o[0] > 10:\n",
    "                    o[0] = 0\n",
    "                    p += str(o[0])\n",
    "                else:\n",
    "                    p += str(o[0])\n",
    "            print(p)\n"
   ]
  },
  {
   "cell_type": "code",
   "execution_count": 27,
   "id": "174ecde9",
   "metadata": {},
   "outputs": [
    {
     "name": "stdout",
     "output_type": "stream",
     "text": [
      "3\n",
      "1\n",
      "1\n",
      "A\n",
      "AB\n",
      "BCDE\n"
     ]
    }
   ],
   "source": [
    "N = int(input())\n",
    "k = int(input())\n",
    "alpha = int(input())\n",
    "h = None\n",
    "\n",
    "def shift_letter(letter, shift):\n",
    "    if letter.isalpha():\n",
    "        base = ord('a') if letter.islower() else ord('A')\n",
    "        shifted = (ord(letter) - base + shift) % 26 + base\n",
    "        return chr(shifted)\n",
    "    else:\n",
    "        return letter\n",
    "    \n",
    "\n",
    "for i in range(N):\n",
    "    if i == 0:\n",
    "        h = \"A\"  # 设置初始值为 \"A\"\n",
    "        print(h)\n",
    "    elif i == 1:\n",
    "        h += shift_letter(h[-1], alpha)  # 将 h 的最后一个字符传递给 shift_letter 函数\n",
    "        print(h)\n",
    "    else:\n",
    "        if (i+1) % 2 != 0:\n",
    "            u = h[-1]\n",
    "            for j in range(i+k):                \n",
    "                u += shift_letter(u[-1], alpha)  # 将 u 的最后一个字符传递给 shift_letter 函数\n",
    "            print(u)\n",
    "        if (i+1) % 2 == 0:\n",
    "            o = [1]  # 将 o 初始化为列表\n",
    "            p = str(o[0])\n",
    "            for j in range(i+k):\n",
    "                o[0] += alpha\n",
    "                if o[0] > 10:\n",
    "                    o[0] = 0\n",
    "                    p += str(o[0])\n",
    "                else:\n",
    "                    p += str(o[0])\n",
    "            print(p)\n"
   ]
  },
  {
   "cell_type": "code",
   "execution_count": 28,
   "id": "9d99a49a",
   "metadata": {},
   "outputs": [
    {
     "name": "stdout",
     "output_type": "stream",
     "text": [
      "3\n",
      "1\n",
      "1\n",
      "A\n",
      "ab\n",
      "bcde\n"
     ]
    }
   ],
   "source": [
    "N = int(input())\n",
    "k = int(input())\n",
    "alpha = int(input())\n",
    "h = None\n",
    "\n",
    "def shift_letter(letter, shift):\n",
    "    if letter.isalpha():\n",
    "        base = ord('a') if letter.islower() else ord('A')\n",
    "        shifted = (ord(letter) - base + shift) % 26 + base\n",
    "        return chr(shifted)\n",
    "    else:\n",
    "        return letter\n",
    "    \n",
    "\n",
    "for i in range(N):\n",
    "    if i == 0:\n",
    "        print(\"A\")  # 输出 \"A\" 而不是 \"h\"\n",
    "    elif i == 1:\n",
    "        h = \"a\"\n",
    "        h += shift_letter(h[-1], alpha)  # 将 h 的最后一个字符传递给 shift_letter 函数\n",
    "        print(h)\n",
    "    else:\n",
    "        if (i+1) % 2 != 0:\n",
    "            u = h[-1]\n",
    "            for j in range(i+k):                \n",
    "                u += shift_letter(u[-1], alpha)  # 将 u 的最后一个字符传递给 shift_letter 函数\n",
    "            print(u)\n",
    "        if (i+1) % 2 == 0:\n",
    "            o = [1]  # 将 o 初始化为列表\n",
    "            p = str(o[0])\n",
    "            for j in range(i+k):\n",
    "                o[0] += alpha\n",
    "                if o[0] > 10:\n",
    "                    o[0] = 0\n",
    "                    p += str(o[0])\n",
    "                else:\n",
    "                    p += str(o[0])\n",
    "            print(p)\n"
   ]
  },
  {
   "cell_type": "code",
   "execution_count": 29,
   "id": "86b035bf",
   "metadata": {},
   "outputs": [
    {
     "name": "stdout",
     "output_type": "stream",
     "text": [
      "3\n",
      "1\n",
      "1\n",
      "A\n",
      "ab\n",
      "bcde\n"
     ]
    }
   ],
   "source": [
    "N = int(input())\n",
    "k = int(input())\n",
    "alpha = int(input())\n",
    "h = None\n",
    "\n",
    "def shift_letter(letter, shift):\n",
    "    if letter.isalpha():\n",
    "        base = ord('a') if letter.islower() else ord('A')\n",
    "        shifted = (ord(letter) - base + shift) % 26 + base\n",
    "        return chr(shifted)\n",
    "    else:\n",
    "        return letter\n",
    "    \n",
    "\n",
    "for i in range(N):\n",
    "    if i == 0:\n",
    "        print(\"A\")  # 输出 \"A\"\n",
    "    elif i == 1:\n",
    "        h = \"a\"\n",
    "        h += shift_letter(h[-1], alpha)  # 将 h 的最后一个字符传递给 shift_letter 函数\n",
    "        print(h)\n",
    "    else:\n",
    "        if (i+1) % 2 != 0:\n",
    "            u = h[-1]\n",
    "            for j in range(i+k):                \n",
    "                u += shift_letter(u[-1], alpha)  # 将 u 的最后一个字符传递给 shift_letter 函数\n",
    "            print(u)\n",
    "        if (i+1) % 2 == 0:\n",
    "            o = [1]  # 将 o 初始化为列表\n",
    "            p = str(o[0])\n",
    "            for j in range(i+k):\n",
    "                o[0] += alpha\n",
    "                if o[0] > 10:\n",
    "                    o[0] = 0\n",
    "                    p += str(o[0])\n",
    "                else:\n",
    "                    p += str(o[0])\n",
    "            print(p)\n"
   ]
  },
  {
   "cell_type": "code",
   "execution_count": 30,
   "id": "6fac7691",
   "metadata": {},
   "outputs": [
    {
     "name": "stdout",
     "output_type": "stream",
     "text": [
      "3\n",
      "1\n",
      "1\n",
      "A\n",
      "ab\n"
     ]
    }
   ],
   "source": [
    "N = int(input())\n",
    "k = int(input())\n",
    "alpha = int(input())\n",
    "h = None\n",
    "\n",
    "def shift_letter(letter, shift):\n",
    "    if letter.isalpha():\n",
    "        base = ord('a') if letter.islower() else ord('A')\n",
    "        shifted = (ord(letter) - base + shift) % 26 + base\n",
    "        return chr(shifted)\n",
    "    else:\n",
    "        return letter\n",
    "    \n",
    "\n",
    "for i in range(N):\n",
    "    if i == 0:\n",
    "        print(\"A\")  # 輸出 \"A\"\n",
    "    elif i == 1:\n",
    "        h = \"a\"\n",
    "        h += shift_letter(h[-1], alpha)  # 將 h 的最後一個字元傳遞給 shift_letter 函數\n",
    "        print(h)\n",
    "    else:\n",
    "        if (i+1) % 2 != 0:\n",
    "            u = h[-1]\n",
    "            for j in range(i+k):                \n",
    "                u += s\n"
   ]
  },
  {
   "cell_type": "code",
   "execution_count": 31,
   "id": "d64d3347",
   "metadata": {},
   "outputs": [
    {
     "name": "stdout",
     "output_type": "stream",
     "text": [
      "3\n",
      "1\n",
      "1\n",
      "A\n",
      "ab\n",
      "bcde\n"
     ]
    }
   ],
   "source": [
    "N = int(input())\n",
    "k = int(input())\n",
    "alpha = int(input())\n",
    "h = None\n",
    "\n",
    "def shift_letter(letter, shift):\n",
    "    if letter.isalpha():\n",
    "        base = ord('a') if letter.islower() else ord('A')\n",
    "        shifted = (ord(letter) - base + shift) % 26 + base\n",
    "        return chr(shifted)\n",
    "    else:\n",
    "        return letter\n",
    "    \n",
    "\n",
    "for i in range(N):\n",
    "    if i == 0:\n",
    "        print(\"A\")  # 输出 \"A\"\n",
    "    elif i == 1:\n",
    "        h = \"a\"\n",
    "        h += shift_letter(h[-1], alpha)  # 将 h 的最后一个字符传递给 shift_letter 函数\n",
    "        print(h)\n",
    "    else:\n",
    "        if (i+1) % 2 != 0:\n",
    "            u = h[-1]\n",
    "            for j in range(i+k):                \n",
    "                u += shift_letter(u[-1], alpha)  # 将 u 的最后一个字符传递给 shift_letter 函数\n",
    "            print(u)\n",
    "        if (i+1) % 2 == 0:\n",
    "            o = 1  # 将 o 初始化为整数\n",
    "            p = str(o)\n",
    "            for j in range(i+k):\n",
    "                o += alpha\n",
    "                if o > 10:\n",
    "                    o = 0\n",
    "                    p += str(o)\n",
    "                else:\n",
    "                    p += str(o)\n",
    "            print(p)\n"
   ]
  },
  {
   "cell_type": "code",
   "execution_count": 32,
   "id": "280475db",
   "metadata": {},
   "outputs": [
    {
     "name": "stdout",
     "output_type": "stream",
     "text": [
      "3\n",
      "1\n",
      "1\n",
      "A\n",
      "ab\n",
      "bcde\n"
     ]
    }
   ],
   "source": [
    "N = int(input())\n",
    "k = int(input())\n",
    "alpha = int(input())\n",
    "h = None\n",
    "\n",
    "def shift_letter(letter, shift):\n",
    "    if letter.isalpha():\n",
    "        base = ord('a') if letter.islower() else ord('A')\n",
    "        shifted = (ord(letter) - base + shift) % 26 + base\n",
    "        return chr(shifted)\n",
    "    else:\n",
    "        return letter\n",
    "    \n",
    "\n",
    "for i in range(N):\n",
    "    if i == 0:\n",
    "        print(\"A\")  # 输出 \"A\"\n",
    "    elif i == 1:\n",
    "        h = \"a\"\n",
    "        h += shift_letter(h[-1], alpha)  # 将 h 的最后一个字符传递给 shift_letter 函数\n",
    "        print(h)\n",
    "    else:\n",
    "        if (i+1) % 2 != 0:\n",
    "            u = h[-1]\n",
    "            for j in range(i+k):                \n",
    "                u += shift_letter(u[-1], alpha)  # 将 u 的最后一个字符传递给 shift_letter 函数\n",
    "            print(u)\n",
    "        if (i+1) % 2 == 0:\n",
    "            num = 1  # 初始化一个数字\n",
    "            num_str = str(num)\n",
    "            for j in range(i+k):\n",
    "                num += alpha\n",
    "                if num > 10:\n",
    "                    num = 0\n",
    "                    num_str += str(num)\n",
    "                else:\n",
    "                    num_str += str(num)\n",
    "            print(num_str)\n"
   ]
  },
  {
   "cell_type": "code",
   "execution_count": 36,
   "id": "fee583b4",
   "metadata": {},
   "outputs": [
    {
     "name": "stdout",
     "output_type": "stream",
     "text": [
      "3\n",
      "1\n",
      "1\n",
      "A\n",
      "ab\n",
      "4\n"
     ]
    }
   ],
   "source": [
    "N = int(input())\n",
    "k = int(input())\n",
    "alpha = int(input())\n",
    "h = None\n",
    "\n",
    "def shift_letter(letter, shift):\n",
    "    if letter.isalpha():\n",
    "        base = ord('a') if letter.islower() else ord('A')\n",
    "        shifted = (ord(letter) - base + shift) % 26 + base\n",
    "        return chr(shifted)\n",
    "    else:\n",
    "        return letter\n",
    "    \n",
    "\n",
    "for i in range(N):\n",
    "    if i == 0:\n",
    "        print(\"A\")  # 输出 \"A\"\n",
    "    elif i == 1:\n",
    "        h = \"a\"\n",
    "        h += shift_letter(h[-1], alpha)  # 将 h 的最后一个字符传递给 shift_letter 函数\n",
    "        print(h)\n",
    "    else:\n",
    "        for y in range(2,N):\n",
    "            if (y+1) % 2 == 0:\n",
    "                u = h[-1]\n",
    "                for j in range(y+k):                \n",
    "                    u += shift_letter(u[-1], alpha)  # 将 u 的最后一个字符传递给 shift_letter 函数\n",
    "                print(u)\n",
    "            if (y+1) % 2 != 0:\n",
    "                num = 1  # 初始化一个数字\n",
    "                for j in range(y+k):\n",
    "                    num += alpha\n",
    "                    if num > 10:\n",
    "                        num = 0\n",
    "                print(num)  # 直接輸出數字\n"
   ]
  },
  {
   "cell_type": "code",
   "execution_count": 37,
   "id": "ae5f2e00",
   "metadata": {},
   "outputs": [
    {
     "name": "stdout",
     "output_type": "stream",
     "text": [
      "3\n",
      "1\n",
      "1\n",
      "A\n",
      "ab\n",
      "4\n"
     ]
    }
   ],
   "source": [
    "N = int(input())\n",
    "k = int(input())\n",
    "alpha = int(input())\n",
    "h = None\n",
    "\n",
    "def shift_letter(letter, shift):\n",
    "    if letter.isalpha():\n",
    "        base = ord('a') if letter.islower() else ord('A')\n",
    "        shifted = (ord(letter) - base + shift) % 26 + base\n",
    "        return chr(shifted)\n",
    "    else:\n",
    "        return letter\n",
    "    \n",
    "\n",
    "for i in range(N):\n",
    "    if i == 0:\n",
    "        print(\"A\")  # Output \"A\"\n",
    "    elif i == 1:\n",
    "        h = \"a\"\n",
    "        h += shift_letter(h[-1], alpha)  # Pass the last character of h to shift_letter function\n",
    "        print(h)\n",
    "    else:\n",
    "        if (i+1) % 2 == 0:\n",
    "            u = h[-1]\n",
    "            for j in range(i+k):                \n",
    "                u += shift_letter(u[-1], alpha)  # Pass the last character of u to shift_letter function\n",
    "            print(u)\n",
    "        else:\n",
    "            num = 1  # Initialize a number\n",
    "            for j in range(i+k):\n",
    "                num += alpha\n",
    "                if num > 10:\n",
    "                    num = 0\n",
    "            print(num)  # Directly output the number\n"
   ]
  },
  {
   "cell_type": "code",
   "execution_count": 38,
   "id": "136591bd",
   "metadata": {},
   "outputs": [
    {
     "name": "stdout",
     "output_type": "stream",
     "text": [
      "3\n",
      "1\n",
      "1\n",
      "A\n",
      "ab\n",
      "4\n"
     ]
    }
   ],
   "source": [
    "N = int(input())\n",
    "k = int(input())\n",
    "alpha = int(input())\n",
    "h = None\n",
    "\n",
    "def shift_letter(letter, shift):\n",
    "    if letter.isalpha():\n",
    "        base = ord('a') if letter.islower() else ord('A')\n",
    "        shifted = (ord(letter) - base + shift) % 26 + base\n",
    "        return chr(shifted)\n",
    "    else:\n",
    "        return letter\n",
    "    \n",
    "\n",
    "for i in range(N):\n",
    "    if i == 0:\n",
    "        print(\"A\")  # Output \"A\"\n",
    "    elif i == 1:\n",
    "        h = \"a\"\n",
    "        h += shift_letter(h[-1], alpha)  # Pass the last character of h to the shift_letter function\n",
    "        print(h)\n",
    "    else:\n",
    "        for y in range(2,N):\n",
    "            if (y+1) % 2 == 0:\n",
    "                u = h[-1]\n",
    "                for j in range(y+k):                \n",
    "                    u += shift_letter(u[-1], alpha)  # Pass the last character of u to the shift_letter function\n",
    "                print(u)\n",
    "            if (y+1) % 2 != 0:\n",
    "                num = 1  # Initialize a number\n",
    "                for j in range(y+k):\n",
    "                    num += alpha\n",
    "                    if num > 10:\n",
    "                        num = 0\n",
    "                print(num)  # Directly output the number\n"
   ]
  },
  {
   "cell_type": "code",
   "execution_count": 46,
   "id": "2775d8d2",
   "metadata": {},
   "outputs": [
    {
     "name": "stdout",
     "output_type": "stream",
     "text": [
      "3\n",
      "1\n",
      "1\n",
      "A\n",
      "ab\n",
      "123"
     ]
    }
   ],
   "source": [
    "N = int(input())\n",
    "k = int(input())\n",
    "alpha = int(input())\n",
    "h = None\n",
    "\n",
    "def shift_letter(letter, shift):\n",
    "    if letter.isalpha():\n",
    "        base = ord('a') if letter.islower() else ord('A')\n",
    "        shifted = (ord(letter) - base + shift) % 26 + base\n",
    "        return chr(shifted)\n",
    "    else:\n",
    "        return letter\n",
    "    \n",
    "\n",
    "for i in range(N):\n",
    "    if i == 0:\n",
    "        print(\"A\")  # Output \"A\"\n",
    "    elif i == 1:\n",
    "        h = \"a\"\n",
    "        h += shift_letter(h[-1], alpha)  # Pass the last character of h to the shift_letter function\n",
    "        print(h)\n",
    "    else:\n",
    "        for y in range(2,N):\n",
    "            if (y+1) % 2 == 0:\n",
    "                u = h[-1]\n",
    "                for j in range(y+k):                \n",
    "                    u += shift_letter(u[-1], alpha)  # Pass the last character of u to the shift_letter function\n",
    "                print(u)\n",
    "            if (y+1) % 2 != 0:\n",
    "                num = 0  # Initialize a number\n",
    "                for j in range(y+k):\n",
    "                    num += alpha\n",
    "                    if num > 9:  # Corrected from 10 to 9 as we want numbers from 1 to 9\n",
    "                        num = 1\n",
    "                    print(num, end = \"\")  # Directly output the number\n"
   ]
  },
  {
   "cell_type": "code",
   "execution_count": 45,
   "id": "efdb99a9",
   "metadata": {},
   "outputs": [
    {
     "name": "stdout",
     "output_type": "stream",
     "text": [
      "3\n",
      "1\n",
      "1\n",
      "A\n",
      "ab\n",
      "111\n"
     ]
    }
   ],
   "source": [
    "N = int(input())\n",
    "k = int(input())\n",
    "alpha = int(input())\n",
    "h = None\n",
    "\n",
    "def shift_letter(letter, shift):\n",
    "    if letter.isalpha():\n",
    "        base = ord('a') if letter.islower() else ord('A')\n",
    "        shifted = (ord(letter) - base + shift) % 26 + base\n",
    "        return chr(shifted)\n",
    "    else:\n",
    "        return letter\n",
    "    \n",
    "\n",
    "for i in range(N):\n",
    "    if i == 0:\n",
    "        print(\"A\")  # Output \"A\"\n",
    "    elif i == 1:\n",
    "        h = \"a\"\n",
    "        h += shift_letter(h[-1], alpha)  # Pass the last character of h to the shift_letter function\n",
    "        print(h)\n",
    "    else:\n",
    "        for y in range(2,N):\n",
    "            if (y+1) % 2 == 0:\n",
    "                u = h[-1]\n",
    "                for j in range(y+k):                \n",
    "                    u += shift_letter(u[-1], alpha)  # Pass the last character of u to the shift_letter function\n",
    "                print(u)\n",
    "            if (y+1) % 2 != 0:\n",
    "                num = 0  # Initialize a number\n",
    "                for j in range(y+k):\n",
    "                    num = num*10 + alpha\n",
    "                print(num)  # Directly output the number\n"
   ]
  },
  {
   "cell_type": "code",
   "execution_count": 44,
   "id": "b4112884",
   "metadata": {},
   "outputs": [
    {
     "name": "stdout",
     "output_type": "stream",
     "text": [
      "9\n",
      "1\n",
      "25\n",
      "A\n",
      "az\n",
      "252525\n",
      "zyxwv\n",
      "2525252525\n",
      "zyxwvut\n",
      "25252525252525\n",
      "zyxwvutsr\n",
      "252525252525252525\n",
      "252525\n",
      "zyxwv\n",
      "2525252525\n",
      "zyxwvut\n",
      "25252525252525\n",
      "zyxwvutsr\n",
      "252525252525252525\n",
      "252525\n",
      "zyxwv\n",
      "2525252525\n",
      "zyxwvut\n",
      "25252525252525\n",
      "zyxwvutsr\n",
      "252525252525252525\n",
      "252525\n",
      "zyxwv\n",
      "2525252525\n",
      "zyxwvut\n",
      "25252525252525\n",
      "zyxwvutsr\n",
      "252525252525252525\n",
      "252525\n",
      "zyxwv\n",
      "2525252525\n",
      "zyxwvut\n",
      "25252525252525\n",
      "zyxwvutsr\n",
      "252525252525252525\n",
      "252525\n",
      "zyxwv\n",
      "2525252525\n",
      "zyxwvut\n",
      "25252525252525\n",
      "zyxwvutsr\n",
      "252525252525252525\n",
      "252525\n",
      "zyxwv\n",
      "2525252525\n",
      "zyxwvut\n",
      "25252525252525\n",
      "zyxwvutsr\n",
      "252525252525252525\n"
     ]
    }
   ],
   "source": [
    "N = int(input())\n",
    "k = int(input())\n",
    "alpha = int(input())\n",
    "h = None\n",
    "\n",
    "def shift_letter(letter, shift):\n",
    "    if letter.isalpha():\n",
    "        base = ord('a') if letter.islower() else ord('A')\n",
    "        shifted = (ord(letter) - base + shift) % 26 + base\n",
    "        return chr(shifted)\n",
    "    else:\n",
    "        return letter\n",
    "    \n",
    "\n",
    "for i in range(N):\n",
    "    if i == 0:\n",
    "        print(\"A\")  # Output \"A\"\n",
    "    elif i == 1:\n",
    "        h = \"a\"\n",
    "        h += shift_letter(h[-1], alpha)  # Pass the last character of h to the shift_letter function\n",
    "        print(h)\n",
    "    else:\n",
    "        for y in range(2,N):\n",
    "            if (y+1) % 2 == 0:\n",
    "                u = h[-1]\n",
    "                for j in range(y+k):                \n",
    "                    u += shift_letter(u[-1], alpha)  # Pass the last character of u to the shift_letter function\n",
    "                print(u)\n",
    "            if (y+1) % 2 != 0:\n",
    "                num = \"\"  # Initialize a string to hold the number\n",
    "                for j in range(y+k):\n",
    "                    num += str(alpha)\n",
    "                print(num)  # Directly output the number\n"
   ]
  },
  {
   "cell_type": "code",
   "execution_count": 47,
   "id": "a5837545",
   "metadata": {},
   "outputs": [
    {
     "name": "stdout",
     "output_type": "stream",
     "text": [
      "Input: 123123123123, Repeating Patterns Count: 1\n",
      "Input: AAAAAAAA, Repeating Patterns Count: 1\n"
     ]
    }
   ],
   "source": [
    "import re\n",
    "\n",
    "def find_repeating_pattern(input_string):\n",
    "    # 使用正則表達式找到重複的模式\n",
    "    pattern = re.compile(r\"(.+?)\\1+\")\n",
    "    matches = pattern.findall(input_string)\n",
    "    \n",
    "    # 計算重複的模式的數量\n",
    "    pattern_count = len(matches)\n",
    "    \n",
    "    # 返回找到的重複模式的數量\n",
    "    return pattern_count\n",
    "\n",
    "# 測試\n",
    "input_string = \"123123123123\"\n",
    "pattern_count = find_repeating_pattern(input_string)\n",
    "print(f\"Input: {input_string}, Repeating Patterns Count: {pattern_count}\")\n",
    "\n",
    "input_string = \"AAAAAAAA\"\n",
    "pattern_count = find_repeating_pattern(input_string)\n",
    "print(f\"Input: {input_string}, Repeating Patterns Count: {pattern_count}\")\n"
   ]
  },
  {
   "cell_type": "code",
   "execution_count": 56,
   "id": "a8575b81",
   "metadata": {},
   "outputs": [
    {
     "name": "stdout",
     "output_type": "stream",
     "text": [
      "123123123123\n"
     ]
    },
    {
     "ename": "TypeError",
     "evalue": "'int' object is not iterable",
     "output_type": "error",
     "traceback": [
      "\u001b[1;31m---------------------------------------------------------------------------\u001b[0m",
      "\u001b[1;31mTypeError\u001b[0m                                 Traceback (most recent call last)",
      "Cell \u001b[1;32mIn[56], line 19\u001b[0m\n\u001b[0;32m     15\u001b[0m         \u001b[38;5;28mprint\u001b[39m(\u001b[38;5;124mf\u001b[39m\u001b[38;5;124m\"\u001b[39m\u001b[38;5;132;01m{\u001b[39;00mcount\u001b[38;5;132;01m}\u001b[39;00m\u001b[38;5;124m, \u001b[39m\u001b[38;5;132;01m{\u001b[39;00m\u001b[38;5;28mlen\u001b[39m(k)\u001b[38;5;132;01m}\u001b[39;00m\u001b[38;5;124m\"\u001b[39m)\n\u001b[0;32m     18\u001b[0m \u001b[38;5;28;01mif\u001b[39;00m \u001b[38;5;18m__name__\u001b[39m \u001b[38;5;241m==\u001b[39m \u001b[38;5;124m\"\u001b[39m\u001b[38;5;124m__main__\u001b[39m\u001b[38;5;124m\"\u001b[39m:\n\u001b[1;32m---> 19\u001b[0m     main()\n",
      "Cell \u001b[1;32mIn[56], line 14\u001b[0m, in \u001b[0;36mmain\u001b[1;34m()\u001b[0m\n\u001b[0;32m     12\u001b[0m \u001b[38;5;28;01mif\u001b[39;00m pattern \u001b[38;5;129;01mand\u001b[39;00m count:\n\u001b[0;32m     13\u001b[0m     h \u001b[38;5;241m=\u001b[39m \u001b[38;5;28mstr\u001b[39m(count)\n\u001b[1;32m---> 14\u001b[0m     k \u001b[38;5;241m=\u001b[39m [char \u001b[38;5;28;01mfor\u001b[39;00m char \u001b[38;5;129;01min\u001b[39;00m count]\n\u001b[0;32m     15\u001b[0m     \u001b[38;5;28mprint\u001b[39m(\u001b[38;5;124mf\u001b[39m\u001b[38;5;124m\"\u001b[39m\u001b[38;5;132;01m{\u001b[39;00mcount\u001b[38;5;132;01m}\u001b[39;00m\u001b[38;5;124m, \u001b[39m\u001b[38;5;132;01m{\u001b[39;00m\u001b[38;5;28mlen\u001b[39m(k)\u001b[38;5;132;01m}\u001b[39;00m\u001b[38;5;124m\"\u001b[39m)\n",
      "\u001b[1;31mTypeError\u001b[0m: 'int' object is not iterable"
     ]
    }
   ],
   "source": [
    "def find_pattern_count(s):\n",
    "    length = len(s)\n",
    "    for i in range(1, length // 2 + 1):\n",
    "        pattern = s[:i]\n",
    "        if length % i == 0 and pattern * (length // i) == s:\n",
    "            return pattern, length // i\n",
    "    return None, None\n",
    "\n",
    "def main():\n",
    "    s = input()\n",
    "    pattern, count = find_pattern_count(s)\n",
    "    if pattern and count:\n",
    "        h = str(count)\n",
    "        k = [char for char in count]\n",
    "        print(f\"{count}, {len(k)}\")\n",
    "   \n",
    "\n",
    "if __name__ == \"__main__\":\n",
    "    main()\n"
   ]
  },
  {
   "cell_type": "code",
   "execution_count": 58,
   "id": "f98f8233",
   "metadata": {},
   "outputs": [
    {
     "name": "stdout",
     "output_type": "stream",
     "text": [
      "123123123123\n"
     ]
    },
    {
     "ename": "TypeError",
     "evalue": "object of type 'int' has no len()",
     "output_type": "error",
     "traceback": [
      "\u001b[1;31m---------------------------------------------------------------------------\u001b[0m",
      "\u001b[1;31mTypeError\u001b[0m                                 Traceback (most recent call last)",
      "Cell \u001b[1;32mIn[58], line 19\u001b[0m\n\u001b[0;32m     15\u001b[0m         \u001b[38;5;28mprint\u001b[39m(\u001b[38;5;124mf\u001b[39m\u001b[38;5;124m\"\u001b[39m\u001b[38;5;132;01m{\u001b[39;00mcount\u001b[38;5;132;01m}\u001b[39;00m\u001b[38;5;124m, \u001b[39m\u001b[38;5;132;01m{\u001b[39;00m\u001b[38;5;28mlen\u001b[39m(k)\u001b[38;5;132;01m}\u001b[39;00m\u001b[38;5;124m\"\u001b[39m)\n\u001b[0;32m     18\u001b[0m \u001b[38;5;28;01mif\u001b[39;00m \u001b[38;5;18m__name__\u001b[39m \u001b[38;5;241m==\u001b[39m \u001b[38;5;124m\"\u001b[39m\u001b[38;5;124m__main__\u001b[39m\u001b[38;5;124m\"\u001b[39m:\n\u001b[1;32m---> 19\u001b[0m     main()\n",
      "Cell \u001b[1;32mIn[58], line 15\u001b[0m, in \u001b[0;36mmain\u001b[1;34m()\u001b[0m\n\u001b[0;32m     13\u001b[0m num_str \u001b[38;5;241m=\u001b[39m \u001b[38;5;28mstr\u001b[39m(num)\n\u001b[0;32m     14\u001b[0m num_list \u001b[38;5;241m=\u001b[39m [char \u001b[38;5;28;01mfor\u001b[39;00m char \u001b[38;5;129;01min\u001b[39;00m num_str]\n\u001b[1;32m---> 15\u001b[0m \u001b[38;5;28mprint\u001b[39m(\u001b[38;5;124mf\u001b[39m\u001b[38;5;124m\"\u001b[39m\u001b[38;5;132;01m{\u001b[39;00mcount\u001b[38;5;132;01m}\u001b[39;00m\u001b[38;5;124m, \u001b[39m\u001b[38;5;132;01m{\u001b[39;00m\u001b[38;5;28mlen\u001b[39m(k)\u001b[38;5;132;01m}\u001b[39;00m\u001b[38;5;124m\"\u001b[39m)\n",
      "\u001b[1;31mTypeError\u001b[0m: object of type 'int' has no len()"
     ]
    }
   ],
   "source": [
    "def find_pattern_count(s):\n",
    "    length = len(s)\n",
    "    for i in range(1, length // 2 + 1):\n",
    "        pattern = s[:i]\n",
    "        if length % i == 0 and pattern * (length // i) == s:\n",
    "            return pattern, length // i\n",
    "    return None, None\n",
    "\n",
    "def main():\n",
    "    s = input()\n",
    "    pattern, count = find_pattern_count(s)\n",
    "    if pattern and count:\n",
    "        num_str = str(num)\n",
    "        num_list = [char for char in num_str]\n",
    "        print(f\"{count}, {len(k)}\")\n",
    "   \n",
    "\n",
    "if __name__ == \"__main__\":\n",
    "    main()\n"
   ]
  },
  {
   "cell_type": "code",
   "execution_count": 62,
   "id": "2f3d31d5",
   "metadata": {},
   "outputs": [
    {
     "name": "stdout",
     "output_type": "stream",
     "text": [
      "AAAAAAAA\n",
      "8, 1\n"
     ]
    }
   ],
   "source": [
    "def find_pattern_count(s):\n",
    "    length = len(s)\n",
    "    for i in range(1, length // 2 + 1):\n",
    "        pattern = s[:i]\n",
    "        if length % i == 0 and pattern * (length // i) == s:\n",
    "            return pattern, length // i\n",
    "    return None, None\n",
    "\n",
    "def main():\n",
    "    s = input()\n",
    "    pattern, count = find_pattern_count(s)\n",
    "    if pattern and count:\n",
    "        num_list = [char for char in pattern]\n",
    "        print(f\"{count}, {len(num_list)}\")\n",
    "    \n",
    "if __name__ == \"__main__\":\n",
    "    main()\n"
   ]
  },
  {
   "cell_type": "code",
   "execution_count": 63,
   "id": "1def3271",
   "metadata": {},
   "outputs": [
    {
     "name": "stdout",
     "output_type": "stream",
     "text": [
      "A B C D\n",
      "A B\n",
      "C D E F\n",
      "C D\n",
      "A B E F G\n",
      "B E F G\n",
      "A C D\n",
      "A C\n",
      "A D E F G\n",
      "0\n",
      "A B C D E F G\n"
     ]
    }
   ],
   "source": [
    "from collections import defaultdict\n",
    "\n",
    "def calculate_license_year(inputs):\n",
    "    subjects = {'A', 'B', 'C', 'D', 'E', 'F', 'G'}\n",
    "    year = 1\n",
    "    passed_subjects = defaultdict(int)\n",
    "    passed_years = {}\n",
    "\n",
    "    for i in range(len(inputs)//2):\n",
    "        taken_subjects = set(inputs[2*i].split())\n",
    "        passed = set(inputs[2*i+1].split())\n",
    "        \n",
    "        for subject in passed:\n",
    "            passed_subjects[subject] = max(passed_subjects[subject], year)\n",
    "\n",
    "        if len(passed) == 0:\n",
    "            return \"0\"\n",
    "\n",
    "        if passed_subjects.keys() == subjects:\n",
    "            return \" \".join(sorted(passed_subjects.keys()))\n",
    "\n",
    "        year += 1\n",
    "\n",
    "    if len(passed_subjects) == 0:\n",
    "        return \"None\"\n",
    "\n",
    "    min_year = min(passed_subjects.values())\n",
    "    return str(min_year)\n",
    "\n",
    "# Input\n",
    "inputs = []\n",
    "while True:\n",
    "    try:\n",
    "        line = input().strip()\n",
    "        if line == '0':\n",
    "            break\n",
    "        inputs.append(line)\n",
    "    except EOFError:\n",
    "        break\n",
    "\n",
    "# Calculate result\n",
    "result = calculate_license_year(inputs)\n",
    "print(result)\n"
   ]
  },
  {
   "cell_type": "code",
   "execution_count": 65,
   "id": "1e709f3b",
   "metadata": {},
   "outputs": [
    {
     "ename": "SyntaxError",
     "evalue": "invalid syntax (285986126.py, line 14)",
     "output_type": "error",
     "traceback": [
      "\u001b[1;36m  Cell \u001b[1;32mIn[65], line 14\u001b[1;36m\u001b[0m\n\u001b[1;33m    if passed[i][j] in test and not in keep:\u001b[0m\n\u001b[1;37m                                    ^\u001b[0m\n\u001b[1;31mSyntaxError\u001b[0m\u001b[1;31m:\u001b[0m invalid syntax\n"
     ]
    }
   ],
   "source": [
    "test = []\n",
    "passed = []\n",
    "keep = []\n",
    "with open(\"0429HW3PROBLEM2-1.txt\") as f:\n",
    "    try:\n",
    "        for line in f:\n",
    "            for index, line in enumerate(f):\n",
    "                if (index+1) % 2 == 0:#第一行>第零行，偶數行是考試科目，奇數行是通過\n",
    "                    test.append(line.strip(\" \"))\n",
    "                else:\n",
    "                    passed.append(line.strip(\" \"))\n",
    "            for i in range(len(line/2)):\n",
    "                for n in range(len(passed[i])):\n",
    "                    if passed[i][j] in test and not in keep:\n",
    "                        keep.append(passed[i][j])\n",
    "                    if len(keep) == 7:\n",
    "                    print(i)\n",
    "                else:\n",
    "                    print(keep, sep = \" \")\n",
    "                \n",
    "        \n",
    "            \n",
    "            \n",
    "    except EOFError:\n",
    "        break"
   ]
  },
  {
   "cell_type": "code",
   "execution_count": 66,
   "id": "e942c95e",
   "metadata": {},
   "outputs": [
    {
     "ename": "SyntaxError",
     "evalue": "incomplete input (3443086439.py, line 23)",
     "output_type": "error",
     "traceback": [
      "\u001b[1;36m  Cell \u001b[1;32mIn[66], line 23\u001b[1;36m\u001b[0m\n\u001b[1;33m    # 計數\u001b[0m\n\u001b[1;37m        ^\u001b[0m\n\u001b[1;31mSyntaxError\u001b[0m\u001b[1;31m:\u001b[0m incomplete input\n"
     ]
    }
   ],
   "source": [
    "test = []\n",
    "passed = []\n",
    "\n",
    "# 開啟文件並讀取內容\n",
    "with open(\"0429HW3PROBLEM2-1.txt\") as f:\n",
    "    try:\n",
    "        for index, line in enumerate(f):\n",
    "            # 偶數行是考試科目\n",
    "            if index % 2 == 0:\n",
    "                test.extend(line.strip().split())\n",
    "            # 奇數行是通過的科目\n",
    "            else:\n",
    "                passed.extend(line.strip().split())\n",
    "\n",
    "        # 初始化計數器\n",
    "        count = 0\n",
    "        # 遍歷通過的科目\n",
    "        for subject in passed:\n",
    "            # 如果通過的科目也在考試科目中，並且不在keep列表中\n",
    "            if subject in test and subject not in keep:\n",
    "                # 將科目加入keep列表\n",
    "                keep.append(subject)\n",
    "                # 計數\n"
   ]
  },
  {
   "cell_type": "code",
   "execution_count": null,
   "id": "9a9ba419",
   "metadata": {},
   "outputs": [],
   "source": []
  }
 ],
 "metadata": {
  "kernelspec": {
   "display_name": "Python 3 (ipykernel)",
   "language": "python",
   "name": "python3"
  },
  "language_info": {
   "codemirror_mode": {
    "name": "ipython",
    "version": 3
   },
   "file_extension": ".py",
   "mimetype": "text/x-python",
   "name": "python",
   "nbconvert_exporter": "python",
   "pygments_lexer": "ipython3",
   "version": "3.11.5"
  }
 },
 "nbformat": 4,
 "nbformat_minor": 5
}
